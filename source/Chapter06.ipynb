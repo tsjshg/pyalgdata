{
 "cells": [
  {
   "cell_type": "code",
   "execution_count": 2,
   "metadata": {},
   "outputs": [],
   "source": [
    "import networkx as nx\n",
    "graph = nx.Graph()\n",
    "graph.add_edge(5, 6)\n",
    "graph.add_edge(6, 7)"
   ]
  },
  {
   "cell_type": "code",
   "execution_count": 5,
   "metadata": {},
   "outputs": [
    {
     "data": {
      "image/png": "[encoded data removed]",
      "text/plain": [
       "<Figure size 432x288 with 1 Axes>"
      ]
     },
     "metadata": {},
     "output_type": "display_data"
    }
   ],
   "source": [
    "# Jupyter Notebookの場合\n",
    "%matplotlib inline\n",
    "nx.draw_networkx(graph) "
   ]
  },
  {
   "cell_type": "code",
   "execution_count": 6,
   "metadata": {},
   "outputs": [],
   "source": [
    "import random\n",
    "\n",
    "def generate_graph(n, m):\n",
    "    \"\"\" ｎ個の頂点とｍ個の辺をもつグラフを作る \"\"\"\n",
    "    graph_data = [[0] * n for i in range(n)]\n",
    "    # 同じ辺が同一視されるようにsetを用意\n",
    "    edge_set = set()\n",
    "    while len(edge_set) < m:\n",
    "        i, j = random.sample(range(n), 2)\n",
    "        if i > j: i, j = j, i\n",
    "        edge_set.add((i, j))\n",
    "        graph_data[i][j] = graph_data[j][i] = 1\n",
    "    return graph_data, edge_set"
   ]
  },
  {
   "cell_type": "code",
   "execution_count": 7,
   "metadata": {},
   "outputs": [
    {
     "data": {
      "text/plain": [
       "{(0, 2),\n",
       " (0, 4),\n",
       " (0, 8),\n",
       " (1, 9),\n",
       " (2, 5),\n",
       " (2, 7),\n",
       " (2, 13),\n",
       " (3, 12),\n",
       " (3, 15),\n",
       " (5, 11),\n",
       " (5, 13),\n",
       " (6, 8),\n",
       " (6, 11),\n",
       " (6, 13),\n",
       " (7, 8),\n",
       " (7, 11),\n",
       " (8, 10),\n",
       " (12, 13),\n",
       " (12, 15),\n",
       " (13, 14)}"
      ]
     },
     "execution_count": 7,
     "metadata": {},
     "output_type": "execute_result"
    }
   ],
   "source": [
    "random.seed(6)\n",
    "node_num = 16\n",
    "edge_num = 20\n",
    "my_graph, edge_set = generate_graph(node_num, edge_num)\n",
    "edge_set"
   ]
  },
  {
   "cell_type": "code",
   "execution_count": 8,
   "metadata": {},
   "outputs": [
    {
     "data": {
      "image/png": "[encoded data removed]",
      "text/plain": [
       "<Figure size 432x288 with 1 Axes>"
      ]
     },
     "metadata": {},
     "output_type": "display_data"
    }
   ],
   "source": [
    "# NetworkXを使ってグラフを描画するコード\n",
    "graph = nx.Graph()\n",
    "for u,v in edge_set:\n",
    "    graph.add_edge(u, v)\n",
    "nx.draw_networkx(graph) "
   ]
  },
  {
   "cell_type": "code",
   "execution_count": 9,
   "metadata": {},
   "outputs": [
    {
     "data": {
      "text/plain": [
       "[[0, 0, 1, 0, 1, 0, 0, 0, 1, 0, 0, 0, 0, 0, 0, 0],\n",
       " [0, 0, 0, 0, 0, 0, 0, 0, 0, 1, 0, 0, 0, 0, 0, 0],\n",
       " [1, 0, 0, 0, 0, 1, 0, 1, 0, 0, 0, 0, 0, 1, 0, 0],\n",
       " [0, 0, 0, 0, 0, 0, 0, 0, 0, 0, 0, 0, 1, 0, 0, 1],\n",
       " [1, 0, 0, 0, 0, 0, 0, 0, 0, 0, 0, 0, 0, 0, 0, 0],\n",
       " [0, 0, 1, 0, 0, 0, 0, 0, 0, 0, 0, 1, 0, 1, 0, 0],\n",
       " [0, 0, 0, 0, 0, 0, 0, 0, 1, 0, 0, 1, 0, 1, 0, 0],\n",
       " [0, 0, 1, 0, 0, 0, 0, 0, 1, 0, 0, 1, 0, 0, 0, 0],\n",
       " [1, 0, 0, 0, 0, 0, 1, 1, 0, 0, 1, 0, 0, 0, 0, 0],\n",
       " [0, 1, 0, 0, 0, 0, 0, 0, 0, 0, 0, 0, 0, 0, 0, 0],\n",
       " [0, 0, 0, 0, 0, 0, 0, 0, 1, 0, 0, 0, 0, 0, 0, 0],\n",
       " [0, 0, 0, 0, 0, 1, 1, 1, 0, 0, 0, 0, 0, 0, 0, 0],\n",
       " [0, 0, 0, 1, 0, 0, 0, 0, 0, 0, 0, 0, 0, 1, 0, 1],\n",
       " [0, 0, 1, 0, 0, 1, 1, 0, 0, 0, 0, 0, 1, 0, 1, 0],\n",
       " [0, 0, 0, 0, 0, 0, 0, 0, 0, 0, 0, 0, 0, 1, 0, 0],\n",
       " [0, 0, 0, 1, 0, 0, 0, 0, 0, 0, 0, 0, 1, 0, 0, 0]]"
      ]
     },
     "execution_count": 9,
     "metadata": {},
     "output_type": "execute_result"
    }
   ],
   "source": [
    "my_graph"
   ]
  },
  {
   "cell_type": "code",
   "execution_count": 10,
   "metadata": {},
   "outputs": [
    {
     "name": "stdout",
     "output_type": "stream",
     "text": [
      "deque([1, 2, 3])\n"
     ]
    }
   ],
   "source": [
    "from collections import deque\n",
    "\n",
    "queue = deque([])\n",
    "queue.append(1)\n",
    "queue.append(2)\n",
    "queue.append(3)\n",
    "print(queue)"
   ]
  },
  {
   "cell_type": "code",
   "execution_count": 11,
   "metadata": {},
   "outputs": [
    {
     "name": "stdout",
     "output_type": "stream",
     "text": [
      "1\n",
      "deque([2, 3])\n"
     ]
    }
   ],
   "source": [
    "print(queue.popleft())\n",
    "print(queue)"
   ]
  },
  {
   "cell_type": "code",
   "execution_count": 12,
   "metadata": {},
   "outputs": [],
   "source": [
    "def breadth_first_search(start, W):\n",
    "    \"\"\" 隣接行列Wで表現されるグラフについて、\n",
    "    startから到達できるnodeの一覧を返す\n",
    "    \"\"\"\n",
    "    # リストをキューにする\n",
    "    work_queue = deque([])\n",
    "    visited = set()\n",
    "    # 初期化\n",
    "    work_queue.append(start)\n",
    "    visited.add(start)\n",
    "    while work_queue:\n",
    "        print(work_queue)  # work_queueの中身を表示する\n",
    "        # 今いる頂点\n",
    "        here = work_queue.popleft()\n",
    "        # 今いる頂点に隣接する頂点すべてを処理する\n",
    "        for i, node in enumerate(W[here]):\n",
    "            # 隣接しなければ何もしない\n",
    "            if node == 0: continue\n",
    "            if i not in visited:\n",
    "                work_queue.append(i)\n",
    "                visited.add(i)\n",
    "    return visited"
   ]
  },
  {
   "cell_type": "code",
   "execution_count": 13,
   "metadata": {},
   "outputs": [
    {
     "name": "stdout",
     "output_type": "stream",
     "text": [
      "deque([1])\n",
      "deque([9])\n"
     ]
    },
    {
     "data": {
      "text/plain": [
       "{1, 9}"
      ]
     },
     "execution_count": 13,
     "metadata": {},
     "output_type": "execute_result"
    }
   ],
   "source": [
    "breadth_first_search(1, my_graph)"
   ]
  },
  {
   "cell_type": "code",
   "execution_count": 14,
   "metadata": {},
   "outputs": [
    {
     "name": "stdout",
     "output_type": "stream",
     "text": [
      "deque([10])\n",
      "deque([8])\n",
      "deque([0, 6, 7])\n",
      "deque([6, 7, 2, 4])\n",
      "deque([7, 2, 4, 11, 13])\n",
      "deque([2, 4, 11, 13])\n",
      "deque([4, 11, 13, 5])\n",
      "deque([11, 13, 5])\n",
      "deque([13, 5])\n",
      "deque([5, 12, 14])\n",
      "deque([12, 14])\n",
      "deque([14, 3, 15])\n",
      "deque([3, 15])\n",
      "deque([15])\n"
     ]
    },
    {
     "data": {
      "text/plain": [
       "{0, 2, 3, 4, 5, 6, 7, 8, 10, 11, 12, 13, 14, 15}"
      ]
     },
     "execution_count": 14,
     "metadata": {},
     "output_type": "execute_result"
    }
   ],
   "source": [
    "breadth_first_search(10, my_graph)"
   ]
  },
  {
   "cell_type": "code",
   "execution_count": 15,
   "metadata": {},
   "outputs": [],
   "source": [
    "def depth_first_search(start, W):\n",
    "    # リストをスタックとして利用する\n",
    "    work_stack = []\n",
    "    visited = set()\n",
    "    work_stack.append(start)\n",
    "    visited.add(start)\n",
    "    while work_stack:\n",
    "        print(work_stack)  # work_stackの中身を表示する\n",
    "        here = work_stack.pop()\n",
    "        for i, node in enumerate(W[here]):\n",
    "            if node == 0: continue\n",
    "            if i not in visited:\n",
    "                work_stack.append(i)\n",
    "                visited.add(i)\n",
    "    return visited"
   ]
  },
  {
   "cell_type": "code",
   "execution_count": 16,
   "metadata": {},
   "outputs": [
    {
     "name": "stdout",
     "output_type": "stream",
     "text": [
      "[10]\n",
      "[8]\n",
      "[0, 6, 7]\n",
      "[0, 6, 2, 11]\n",
      "[0, 6, 2, 5]\n",
      "[0, 6, 2, 13]\n",
      "[0, 6, 2, 12, 14]\n",
      "[0, 6, 2, 12]\n",
      "[0, 6, 2, 3, 15]\n",
      "[0, 6, 2, 3]\n",
      "[0, 6, 2]\n",
      "[0, 6]\n",
      "[0]\n",
      "[4]\n"
     ]
    },
    {
     "data": {
      "text/plain": [
       "{0, 2, 3, 4, 5, 6, 7, 8, 10, 11, 12, 13, 14, 15}"
      ]
     },
     "execution_count": 16,
     "metadata": {},
     "output_type": "execute_result"
    }
   ],
   "source": [
    "depth_first_search(10, my_graph)"
   ]
  },
  {
   "cell_type": "code",
   "execution_count": 17,
   "metadata": {},
   "outputs": [],
   "source": [
    "import math\n",
    "import heapq\n",
    "\n",
    "def dijkstra(start, W):\n",
    "    \"\"\" スタートの頂点と隣接行列を受け取り、\n",
    "    到達できるすべての頂点への最短距離を返す。\n",
    "    \"\"\"\n",
    "    # 仮の最短距離を∞に設定\n",
    "    distance_list = [math.inf] * len(W)\n",
    "    # スタートの頂点だけ距離を0にする\n",
    "    distance_list[start] = 0\n",
    "    # 最短距離が確定した頂点\n",
    "    done_list = []\n",
    "    # 次に処理する頂点を決めるためのヒープ\n",
    "    wait_heap = []\n",
    "    for i, d in enumerate(distance_list):\n",
    "        # （スタートからの距離, 頂点）というタプルを作る\n",
    "        heapq.heappush(wait_heap, (d, i))\n",
    "    # ヒープが空っぽになるまで処理を続ける\n",
    "    while wait_heap:\n",
    "        p = heapq.heappop(wait_heap)\n",
    "        i = p[1]\n",
    "        if i in done_list:\n",
    "            continue\n",
    "        # この時点でスタートからiへの距離が確定する\n",
    "        done_list.append(i)\n",
    "        # i　に隣接するすべての頂点に対する処理\n",
    "        for j, x in enumerate(W[i]):\n",
    "            if x == 1 and j not in done_list:\n",
    "                # 緩和\n",
    "                d = min(distance_list[j], distance_list[i]+x)\n",
    "                distance_list[j] = d\n",
    "                # ｊへの仮の最短距離をdとしてヒープに追加\n",
    "                heapq.heappush(wait_heap, (d, j))\n",
    "    return distance_list"
   ]
  },
  {
   "cell_type": "code",
   "execution_count": 18,
   "metadata": {},
   "outputs": [
    {
     "data": {
      "text/plain": [
       "[2, inf, 3, 5, 3, 4, 2, 2, 1, inf, 0, 3, 4, 3, 4, 5]"
      ]
     },
     "execution_count": 18,
     "metadata": {},
     "output_type": "execute_result"
    }
   ],
   "source": [
    "dijkstra(10, my_graph)"
   ]
  },
  {
   "cell_type": "code",
   "execution_count": 19,
   "metadata": {},
   "outputs": [],
   "source": [
    "def all_pairs_shortest_paths(W):\n",
    "    # 頂点の数\n",
    "    n = len(W)\n",
    "    # 結果を格納する行列を用意する\n",
    "    res = [[0] * n for i in range(n)]\n",
    "    # 用意した行列を初期化する\n",
    "    for i in range(n):\n",
    "        for j in range(i, n):\n",
    "            if i == j:\n",
    "                val = 0\n",
    "            elif W[i][j]:\n",
    "                val = W[i][j]\n",
    "            else:\n",
    "                val = math.inf\n",
    "            res[i][j] = res[j][i] = val\n",
    "    # 動的計画法ですべての頂点間の最短距離を求める\n",
    "    for k in range(n):\n",
    "        for u in range(n):\n",
    "            for v in range(n):\n",
    "                res[u][v] = min(res[u][v], res[u][k] + res[k][v])\n",
    "    return res"
   ]
  },
  {
   "cell_type": "code",
   "execution_count": 20,
   "metadata": {
    "scrolled": true
   },
   "outputs": [
    {
     "data": {
      "text/plain": [
       "[[0, inf, 1, 4, 1, 2, 2, 2, 1, inf, 2, 3, 3, 2, 3, 4],\n",
       " [inf, 0, inf, inf, inf, inf, inf, inf, inf, 1, inf, inf, inf, inf, inf, inf],\n",
       " [1, inf, 0, 3, 2, 1, 2, 1, 2, inf, 3, 2, 2, 1, 2, 3],\n",
       " [4, inf, 3, 0, 5, 3, 3, 4, 4, inf, 5, 4, 1, 2, 3, 1],\n",
       " [1, inf, 2, 5, 0, 3, 3, 3, 2, inf, 3, 4, 4, 3, 4, 5],\n",
       " [2, inf, 1, 3, 3, 0, 2, 2, 3, inf, 4, 1, 2, 1, 2, 3],\n",
       " [2, inf, 2, 3, 3, 2, 0, 2, 1, inf, 2, 1, 2, 1, 2, 3],\n",
       " [2, inf, 1, 4, 3, 2, 2, 0, 1, inf, 2, 1, 3, 2, 3, 4],\n",
       " [1, inf, 2, 4, 2, 3, 1, 1, 0, inf, 1, 2, 3, 2, 3, 4],\n",
       " [inf, 1, inf, inf, inf, inf, inf, inf, inf, 0, inf, inf, inf, inf, inf, inf],\n",
       " [2, inf, 3, 5, 3, 4, 2, 2, 1, inf, 0, 3, 4, 3, 4, 5],\n",
       " [3, inf, 2, 4, 4, 1, 1, 1, 2, inf, 3, 0, 3, 2, 3, 4],\n",
       " [3, inf, 2, 1, 4, 2, 2, 3, 3, inf, 4, 3, 0, 1, 2, 1],\n",
       " [2, inf, 1, 2, 3, 1, 1, 2, 2, inf, 3, 2, 1, 0, 1, 2],\n",
       " [3, inf, 2, 3, 4, 2, 2, 3, 3, inf, 4, 3, 2, 1, 0, 3],\n",
       " [4, inf, 3, 1, 5, 3, 3, 4, 4, inf, 5, 4, 1, 2, 3, 0]]"
      ]
     },
     "execution_count": 20,
     "metadata": {},
     "output_type": "execute_result"
    }
   ],
   "source": [
    "all_pairs_shortest_paths(my_graph)"
   ]
  },
  {
   "cell_type": "code",
   "execution_count": null,
   "metadata": {},
   "outputs": [],
   "source": []
  },
  {
   "cell_type": "code",
   "execution_count": null,
   "metadata": {},
   "outputs": [],
   "source": []
  },
  {
   "cell_type": "code",
   "execution_count": null,
   "metadata": {},
   "outputs": [],
   "source": []
  },
  {
   "cell_type": "code",
   "execution_count": null,
   "metadata": {},
   "outputs": [],
   "source": []
  },
  {
   "cell_type": "code",
   "execution_count": null,
   "metadata": {},
   "outputs": [],
   "source": []
  },
  {
   "cell_type": "code",
   "execution_count": null,
   "metadata": {},
   "outputs": [],
   "source": []
  },
  {
   "cell_type": "markdown",
   "metadata": {},
   "source": [
    "# 練習問題解答"
   ]
  },
  {
   "cell_type": "markdown",
   "metadata": {},
   "source": [
    "## 6.1\n",
    "\n",
    "無向グラフとして表現できる事柄はたくさんある。本書でも例に挙げた、人間関係はわかりやすい例だ。経済活動に目を向けると、会社の取引関係もグラフ構造にできる。頂点が会社や個人事業主、辺は取引関係になる。商取引は、受発注で成り立っている。仕事を発注する側はお金を払い仕事を発注する。受注側はお金を受け取り、商品やサービスを提供する。これを向きを持った矢印で表現すれば、有向グラフになる。\n",
    "\n",
    "インターネットは、世界中のコンピュータのネットワークなので、グラフ構造として表現できる。頂点はコンピュータ、辺は接続関係としよう。大型のコンピュータ同士は、LANケーブルで物理的に接続されていることが多い。家庭やオフィスで使われるPCやスマートフォンなどは無線通信で接続されていることが多いだろう。どちらにしても、これらのコンピュータが1つの巨大なグラフ構造になっているため、世界中のコンピュータへアクセスすることができる。通信は基本的には双方向なので、これは無向グラフと考えられるが、一般家庭への通信は上り（家庭からプロバイダー）と下り（プロバイダーから一般家庭）の通信速度が違うことが多いので、このことも考慮すると有向グラフとして表現できる。\n",
    "\n",
    "人は気が付かないうちに、社会や周囲の人々から影響を受けているものだ。これを可視化するのは難しいかも知れないが、似たような事例をグラフで表現することはよくある。学術論文は、その論文を書くために参考にした文献を巻末にまとめる習慣がある。頂点を1つの論文、辺を引用関係にすればグラフができる。引用には向きがあるので、有向グラフとしても表現できる。\n",
    "\n",
    "生活の中でグラフ構造として表現出来ることは無いか、いつも探し続けると楽しいかもしれない。"
   ]
  },
  {
   "cell_type": "markdown",
   "metadata": {},
   "source": [
    "## 6.2\n",
    "\n",
    "幅優先探索の例を示そう。変更した箇所にだけコメントを付けてある。"
   ]
  },
  {
   "cell_type": "code",
   "execution_count": 21,
   "metadata": {},
   "outputs": [],
   "source": [
    "def breadth_first_search_with_path(start, W):\n",
    "    work_queue = deque([])\n",
    "    visited = set()\n",
    "    # 頂点ペアを保持するリスト\n",
    "    paths = []\n",
    "    work_queue.append(start)\n",
    "    visited.add(start)\n",
    "    while work_queue:\n",
    "        here = work_queue.popleft()\n",
    "        for i, node in enumerate(W[here]):\n",
    "            if node == 0: continue\n",
    "            if i not in visited:\n",
    "                work_queue.append(i)\n",
    "                visited.add(i)\n",
    "                # ここから、次の頂点\n",
    "                paths.append([here, i])\n",
    "    # 関数の戻り値にpathsを追加\n",
    "    return visited, paths"
   ]
  },
  {
   "cell_type": "code",
   "execution_count": 22,
   "metadata": {},
   "outputs": [
    {
     "data": {
      "text/plain": [
       "[[0, 2],\n",
       " [0, 4],\n",
       " [0, 8],\n",
       " [2, 5],\n",
       " [2, 7],\n",
       " [2, 13],\n",
       " [8, 6],\n",
       " [8, 10],\n",
       " [5, 11],\n",
       " [13, 12],\n",
       " [13, 14],\n",
       " [12, 3],\n",
       " [12, 15]]"
      ]
     },
     "execution_count": 22,
     "metadata": {},
     "output_type": "execute_result"
    }
   ],
   "source": [
    "# 1つ目の戻り値は使わないので、_としておく\n",
    "_, paths = breadth_first_search_with_path(0, my_graph)\n",
    "paths"
   ]
  },
  {
   "cell_type": "markdown",
   "metadata": {},
   "source": [
    "手作業でグラフを描いてもよいが、NetworkXを使うと便利だ。"
   ]
  },
  {
   "cell_type": "code",
   "execution_count": 23,
   "metadata": {},
   "outputs": [
    {
     "data": {
      "image/png": "[encoded data removed]",
      "text/plain": [
       "<Figure size 432x288 with 1 Axes>"
      ]
     },
     "metadata": {},
     "output_type": "display_data"
    }
   ],
   "source": [
    "g = nx.Graph()\n",
    "for u, v in paths:\n",
    "    g.add_edge(u, v)\n",
    "nx.draw_networkx(g)"
   ]
  },
  {
   "cell_type": "markdown",
   "metadata": {},
   "source": [
    "頂点0から各頂点への経路がただ1つしか無いグラフ、つまり木構造になっているのがわかる。"
   ]
  },
  {
   "cell_type": "markdown",
   "metadata": {},
   "source": [
    "## 6.3\n",
    "\n",
    "まず、計算結果を変数に格納しよう。"
   ]
  },
  {
   "cell_type": "code",
   "execution_count": 24,
   "metadata": {},
   "outputs": [],
   "source": [
    "fw_matrix = all_pairs_shortest_paths(my_graph)"
   ]
  },
  {
   "cell_type": "code",
   "execution_count": 25,
   "metadata": {},
   "outputs": [
    {
     "data": {
      "text/plain": [
       "[[0, inf, 1, 4, 1, 2, 2, 2, 1, inf, 2, 3, 3, 2, 3, 4],\n",
       " [inf, 0, inf, inf, inf, inf, inf, inf, inf, 1, inf, inf, inf, inf, inf, inf],\n",
       " [1, inf, 0, 3, 2, 1, 2, 1, 2, inf, 3, 2, 2, 1, 2, 3],\n",
       " [4, inf, 3, 0, 5, 3, 3, 4, 4, inf, 5, 4, 1, 2, 3, 1],\n",
       " [1, inf, 2, 5, 0, 3, 3, 3, 2, inf, 3, 4, 4, 3, 4, 5],\n",
       " [2, inf, 1, 3, 3, 0, 2, 2, 3, inf, 4, 1, 2, 1, 2, 3],\n",
       " [2, inf, 2, 3, 3, 2, 0, 2, 1, inf, 2, 1, 2, 1, 2, 3],\n",
       " [2, inf, 1, 4, 3, 2, 2, 0, 1, inf, 2, 1, 3, 2, 3, 4],\n",
       " [1, inf, 2, 4, 2, 3, 1, 1, 0, inf, 1, 2, 3, 2, 3, 4],\n",
       " [inf, 1, inf, inf, inf, inf, inf, inf, inf, 0, inf, inf, inf, inf, inf, inf],\n",
       " [2, inf, 3, 5, 3, 4, 2, 2, 1, inf, 0, 3, 4, 3, 4, 5],\n",
       " [3, inf, 2, 4, 4, 1, 1, 1, 2, inf, 3, 0, 3, 2, 3, 4],\n",
       " [3, inf, 2, 1, 4, 2, 2, 3, 3, inf, 4, 3, 0, 1, 2, 1],\n",
       " [2, inf, 1, 2, 3, 1, 1, 2, 2, inf, 3, 2, 1, 0, 1, 2],\n",
       " [3, inf, 2, 3, 4, 2, 2, 3, 3, inf, 4, 3, 2, 1, 0, 3],\n",
       " [4, inf, 3, 1, 5, 3, 3, 4, 4, inf, 5, 4, 1, 2, 3, 0]]"
      ]
     },
     "execution_count": 25,
     "metadata": {},
     "output_type": "execute_result"
    }
   ],
   "source": [
    "fw_matrix"
   ]
  },
  {
   "cell_type": "markdown",
   "metadata": {},
   "source": [
    "この2次元配列を引数にとり、指定された距離以下の頂点ペアを出力する関数を作る。"
   ]
  },
  {
   "cell_type": "code",
   "execution_count": 26,
   "metadata": {},
   "outputs": [],
   "source": [
    "def near_k(W, k):\n",
    "    \"\"\"ｋ以下の距離にある頂点ペアを返す。\n",
    "    Wはグラフの頂点数と同じサイズの正方行列とする\"\"\"\n",
    "    n = len(W)\n",
    "    res = []\n",
    "    for i in range(n):\n",
    "        for j in range(i+1, n):\n",
    "            if W[i][j] <= k: res.append((i, j))\n",
    "    return res"
   ]
  },
  {
   "cell_type": "code",
   "execution_count": 27,
   "metadata": {},
   "outputs": [
    {
     "data": {
      "text/plain": [
       "[(0, 2),\n",
       " (0, 4),\n",
       " (0, 8),\n",
       " (1, 9),\n",
       " (2, 5),\n",
       " (2, 7),\n",
       " (2, 13),\n",
       " (3, 12),\n",
       " (3, 15),\n",
       " (5, 11),\n",
       " (5, 13),\n",
       " (6, 8),\n",
       " (6, 11),\n",
       " (6, 13),\n",
       " (7, 8),\n",
       " (7, 11),\n",
       " (8, 10),\n",
       " (12, 13),\n",
       " (12, 15),\n",
       " (13, 14)]"
      ]
     },
     "execution_count": 27,
     "metadata": {},
     "output_type": "execute_result"
    }
   ],
   "source": [
    "near_k(fw_matrix, 1)"
   ]
  },
  {
   "cell_type": "markdown",
   "metadata": {},
   "source": [
    "いまは無向グラフを考えているため、行列は対称行列（対角成分を境に上下が同じ値）になっている。このため、ループで走査する領域は行列の上半分だけで十分になる。"
   ]
  },
  {
   "cell_type": "markdown",
   "metadata": {},
   "source": [
    "## 6.4\n",
    "\n",
    "隣接行列を引数に、各頂点の次数を計算する関数を作る。隣接行列が0と1から成っているので、それほど難しくない。"
   ]
  },
  {
   "cell_type": "code",
   "execution_count": 28,
   "metadata": {},
   "outputs": [],
   "source": [
    "def degree(W):\n",
    "    # キーが頂点、値が次数になる辞書を用意\n",
    "    res = {}\n",
    "    for i in range(len(W)):\n",
    "        res[i] = sum(W[i])\n",
    "    return res"
   ]
  },
  {
   "cell_type": "code",
   "execution_count": 29,
   "metadata": {},
   "outputs": [
    {
     "data": {
      "text/plain": [
       "{0: 3,\n",
       " 1: 1,\n",
       " 2: 4,\n",
       " 3: 2,\n",
       " 4: 1,\n",
       " 5: 3,\n",
       " 6: 3,\n",
       " 7: 3,\n",
       " 8: 4,\n",
       " 9: 1,\n",
       " 10: 1,\n",
       " 11: 3,\n",
       " 12: 3,\n",
       " 13: 5,\n",
       " 14: 1,\n",
       " 15: 2}"
      ]
     },
     "execution_count": 29,
     "metadata": {},
     "output_type": "execute_result"
    }
   ],
   "source": [
    "degree(my_graph)"
   ]
  },
  {
   "cell_type": "markdown",
   "metadata": {},
   "source": [
    "近年発達した複雑ネットワーク科学では、現実世界にみられるグラフ構造の多くで、極端に大きな次数をもつ頂点があることがわかっている。こうした頂点はハブ（hub）と呼ばれ、ネットワーク全体への影響力などがさまざまな観点から研究されている。"
   ]
  }
 ],
 "metadata": {
  "kernelspec": {
   "display_name": "Python 3",
   "language": "python",
   "name": "python3"
  },
  "language_info": {
   "codemirror_mode": {
    "name": "ipython",
    "version": 3
   },
   "file_extension": ".py",
   "mimetype": "text/x-python",
   "name": "python",
   "nbconvert_exporter": "python",
   "pygments_lexer": "ipython3",
   "version": "3.9.2"
  }
 },
 "nbformat": 4,
 "nbformat_minor": 4
}
