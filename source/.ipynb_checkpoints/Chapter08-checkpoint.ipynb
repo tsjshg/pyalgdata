{
 "cells": [
  {
   "cell_type": "code",
   "execution_count": 10,
   "metadata": {},
   "outputs": [],
   "source": [
    "def prime_test(n):\n",
    "    \"\"\"引数が素数かどうかを判定する\"\"\"\n",
    "    m = int(pow(n, 0.5))\n",
    "    for d in range(2, m + 1):\n",
    "        if n % d == 0:\n",
    "            return False\n",
    "    return True"
   ]
  },
  {
   "cell_type": "code",
   "execution_count": 11,
   "metadata": {},
   "outputs": [],
   "source": [
    "# ｎが大きくなっても正確に計算するためのコード\n",
    "\n",
    "# 3.7以前ではdecimalを利用する。\n",
    "from decimal import Decimal, getcontext\n",
    "\n",
    "def prime_test_large_n(n):\n",
    "    # 計算の精度を指定する\n",
    "    getcontext().prec = len(str(n))\n",
    "    m = int(Decimal(n).sqrt())\n",
    "    for d in range(2, m + 1):\n",
    "        if n % d == 0:\n",
    "            return False\n",
    "    return True"
   ]
  },
  {
   "cell_type": "code",
   "execution_count": null,
   "metadata": {},
   "outputs": [],
   "source": [
    "# 3.8以降では、math.isqrtが利用できる。\n",
    "import math\n",
    "\n",
    "def prime_test(n):\n",
    "    \"\"\"引数が素数かどうかを判定する\"\"\"\n",
    "    m = math.isqrt(n)\n",
    "    for d in range(2, m + 1):\n",
    "        if n % d == 0:\n",
    "            return False\n",
    "    return True"
   ]
  },
  {
   "cell_type": "code",
   "execution_count": 12,
   "metadata": {},
   "outputs": [
    {
     "data": {
      "text/plain": [
       "True"
      ]
     },
     "execution_count": 12,
     "metadata": {},
     "output_type": "execute_result"
    }
   ],
   "source": [
    "prime_test(71)"
   ]
  },
  {
   "cell_type": "code",
   "execution_count": 13,
   "metadata": {},
   "outputs": [
    {
     "data": {
      "text/plain": [
       "False"
      ]
     },
     "execution_count": 13,
     "metadata": {},
     "output_type": "execute_result"
    }
   ],
   "source": [
    "prime_test(5489)"
   ]
  },
  {
   "cell_type": "code",
   "execution_count": 14,
   "metadata": {},
   "outputs": [
    {
     "data": {
      "text/plain": [
       "True"
      ]
     },
     "execution_count": 14,
     "metadata": {},
     "output_type": "execute_result"
    }
   ],
   "source": [
    "prime_test(2147483647)"
   ]
  },
  {
   "cell_type": "code",
   "execution_count": null,
   "metadata": {},
   "outputs": [],
   "source": [
    "# これは諦めた方がいい。\n",
    "prime_test(2305843009213693951)"
   ]
  },
  {
   "cell_type": "code",
   "execution_count": 15,
   "metadata": {},
   "outputs": [],
   "source": [
    "import random\n",
    "random.seed(8)\n",
    "\n",
    "class kSAT:\n",
    "    \n",
    "    @classmethod\n",
    "    def generate(cls, k, var_num, clause_num):\n",
    "        \"\"\"変数の数（var_num）と節の数（clause_num）をとりkSAT問題を作る\"\"\"\n",
    "        ksat = cls()\n",
    "        var_list = list(range(var_num))\n",
    "        # 問題の本体を格納するための変数\n",
    "        res = []\n",
    "        while len(res) < clause_num:\n",
    "            clause = []\n",
    "            # 高々k個の変数が含まれる\n",
    "            clause_size = random.randint(1, k)\n",
    "            for i in random.sample(var_list, clause_size):\n",
    "                # 0ならnotで変数を否定する\n",
    "                prefix = random.choice((0, 1))\n",
    "                clause.append((prefix, i))\n",
    "            # 同一の節を判定できるよう変数の添え字でソート\n",
    "            clause.sort(key=lambda x: x[1])\n",
    "            if clause not in res: res.append(clause)\n",
    "        # ｋSATのインスタンスに格納\n",
    "        ksat.body = res\n",
    "        return ksat\n",
    "    \n",
    "    def test(self, var_list):\n",
    "        \"\"\"受け取ったvar_listのTrue、Falseを使って論理式を評価する\"\"\"\n",
    "        res = []\n",
    "        for clause in self.body:\n",
    "            clause_data = [not var_list[i] if p else var_list[i] for p, i in clause]\n",
    "            # 各節はどれか1つでもTrueならTrue\n",
    "            res.append(any(clause_data))\n",
    "        # 全体は、すべてがTrueならTrue\n",
    "        return all(res)\n",
    "    \n",
    "    def __str__(self):\n",
    "        res = []\n",
    "        for clause in self.body:\n",
    "            clause_str = [f'¬x{i}' if p else f'x{i}' for p, i in clause]\n",
    "            res.append('(' + ' ∨ '.join(clause_str) + ')')\n",
    "        return ' ∧ '.join(res)"
   ]
  },
  {
   "cell_type": "code",
   "execution_count": 16,
   "metadata": {},
   "outputs": [
    {
     "name": "stdout",
     "output_type": "stream",
     "text": [
      "(¬x2) ∧ (x1) ∧ (¬x0 ∨ ¬x1 ∨ ¬x3)\n"
     ]
    }
   ],
   "source": [
    "ksat = kSAT.generate(3, 4, 3)\n",
    "print(ksat)"
   ]
  },
  {
   "cell_type": "code",
   "execution_count": 17,
   "metadata": {
    "scrolled": true
   },
   "outputs": [
    {
     "name": "stdout",
     "output_type": "stream",
     "text": [
      "[False, True, False, True]\n"
     ]
    }
   ],
   "source": [
    "while True:\n",
    "    cand = random.choices([True, False], k=4)\n",
    "    if ksat.test(cand):\n",
    "        print(cand)\n",
    "        break"
   ]
  },
  {
   "cell_type": "code",
   "execution_count": null,
   "metadata": {},
   "outputs": [],
   "source": []
  },
  {
   "cell_type": "code",
   "execution_count": null,
   "metadata": {},
   "outputs": [],
   "source": []
  },
  {
   "cell_type": "code",
   "execution_count": null,
   "metadata": {},
   "outputs": [],
   "source": []
  },
  {
   "cell_type": "code",
   "execution_count": null,
   "metadata": {},
   "outputs": [],
   "source": []
  },
  {
   "cell_type": "code",
   "execution_count": null,
   "metadata": {},
   "outputs": [],
   "source": []
  },
  {
   "cell_type": "code",
   "execution_count": null,
   "metadata": {},
   "outputs": [],
   "source": []
  },
  {
   "cell_type": "markdown",
   "metadata": {},
   "source": [
    "# 練習問題解答"
   ]
  },
  {
   "cell_type": "markdown",
   "metadata": {},
   "source": [
    "## 8.1\n",
    "\n",
    "指定された桁数の正の整数をランダムに得る関数は、練習問題3.1で実装した。"
   ]
  },
  {
   "cell_type": "code",
   "execution_count": 18,
   "metadata": {},
   "outputs": [],
   "source": [
    "import random\n",
    "\n",
    "def rand_n_digit_int(n):\n",
    "    return random.randint(10**(n-1), 10**n - 1)"
   ]
  },
  {
   "cell_type": "markdown",
   "metadata": {},
   "source": [
    "1以上の整数を引数にとり、その桁数の素数を探す関数を作る。"
   ]
  },
  {
   "cell_type": "code",
   "execution_count": 19,
   "metadata": {
    "scrolled": true
   },
   "outputs": [],
   "source": [
    "def explore_n_digit_prime(n):\n",
    "    cnt = 1\n",
    "    while True:\n",
    "        d = rand_n_digit_int(n)\n",
    "        if prime_test(d):\n",
    "            break\n",
    "        cnt += 1\n",
    "    return d, cnt"
   ]
  },
  {
   "cell_type": "markdown",
   "metadata": {},
   "source": [
    "引数を8にすれば8桁の素数を見つけることができる。"
   ]
  },
  {
   "cell_type": "code",
   "execution_count": 20,
   "metadata": {},
   "outputs": [
    {
     "name": "stdout",
     "output_type": "stream",
     "text": [
      "11774039を2回目で見つけた。\n"
     ]
    }
   ],
   "source": [
    "d, cnt = explore_n_digit_prime(8)\n",
    "\n",
    "print(f'{d}を{cnt}回目で見つけた。')"
   ]
  },
  {
   "cell_type": "markdown",
   "metadata": {},
   "source": [
    "$n$が大きくなると、prime_testの実行に時間がかかるようになる。また、10桁を超えるような場合は、関数内部で平方根を整数にする部分で計算誤差の影響がでる可能性がある。これはprime_test_large_nを使うなどの方法で回避できる。計算量の問題も含め、このあたりのややこしい問題をすべて解決してくれる方法を9章で説明する。"
   ]
  },
  {
   "cell_type": "markdown",
   "metadata": {},
   "source": [
    "## 8.2\n",
    "\n",
    "ここでは大まかな時間がわかれば良いので、timeモジュールを使う。コードのパフォーマンスを測定するには、通常timeitモジュールを使って実装した方が正確になる。"
   ]
  },
  {
   "cell_type": "code",
   "execution_count": 21,
   "metadata": {},
   "outputs": [],
   "source": [
    "import time\n",
    "\n",
    "def create_n_list(n):\n",
    "    s = time.time()\n",
    "    [random.random() for i in range(rand_n_digit_int(n))]\n",
    "    e = time.time()\n",
    "    return e - s"
   ]
  },
  {
   "cell_type": "code",
   "execution_count": 22,
   "metadata": {},
   "outputs": [
    {
     "name": "stdout",
     "output_type": "stream",
     "text": [
      "1\t1.7881393432617188e-05\n",
      "2\t2.8848648071289062e-05\n",
      "3\t0.0001087188720703125\n",
      "4\t0.0011823177337646484\n",
      "5\t0.004484891891479492\n",
      "6\t0.04946303367614746\n",
      "7\t1.2673771381378174\n",
      "8\t3.4475929737091064\n"
     ]
    }
   ],
   "source": [
    "for i in range(1, 9):\n",
    "    print('{}\\t{}'.format(i, create_n_list(i)))"
   ]
  },
  {
   "cell_type": "markdown",
   "metadata": {},
   "source": [
    "8桁目で時間が7桁の時の約10倍になっているのがわかる。9桁目も10倍の時間で済むならば、それほどかからないようにも思えるが、これにはメモリの問題が影響してくる。次の問題でそれを検討する。"
   ]
  },
  {
   "cell_type": "markdown",
   "metadata": {},
   "source": [
    "## 8.3\n",
    "\n",
    "sys.getsizeofは、引数にとったオブジェクトのサイズをbyte単位で返す。大きな数字になるとわかりにくいので、1024で2回割って、MB単位で表示する。"
   ]
  },
  {
   "cell_type": "code",
   "execution_count": 23,
   "metadata": {},
   "outputs": [],
   "source": [
    "import sys\n",
    "\n",
    "def create_n_list(n):\n",
    "    s = time.time()\n",
    "    test_list = [random.random() for i in range(rand_n_digit_int(n))]\n",
    "    e = time.time()\n",
    "    return e - s, sys.getsizeof(test_list)"
   ]
  },
  {
   "cell_type": "code",
   "execution_count": 24,
   "metadata": {},
   "outputs": [
    {
     "name": "stdout",
     "output_type": "stream",
     "text": [
      "1\t5.412101745605469e-05\t0.0001220703125\n",
      "2\t3.4809112548828125e-05\t0.000732421875\n",
      "3\t8.869171142578125e-05\t0.0027618408203125\n",
      "4\t0.0022881031036376953\t0.07424163818359375\n",
      "5\t0.02197408676147461\t0.6988677978515625\n",
      "6\t0.10741972923278809\t5.1781158447265625\n",
      "7\t0.9176919460296631\t54.6070556640625\n",
      "8\t13.03581190109253\t728.7974243164062\n"
     ]
    }
   ],
   "source": [
    "for i in range(1, 9):\n",
    "    t, s = create_n_list(i)\n",
    "    print(f'{i}\\t{t}\\t{s/1024/1024}')"
   ]
  },
  {
   "cell_type": "markdown",
   "metadata": {},
   "source": [
    "8桁（1億から10億未満）にもなる長さでは、サイズが数百MBほどになる。このまま9桁のサイズになると数GBになってしまう。これは一般的なパーソナルコンピュータのメモリサイズと同じくらいだ。かなりの高性能機でなければ、9桁のサイズのリストは扱わない方が良いだろう。\n",
    "\n",
    "実際には、リストを作ったあとさまざまな計算をすることになる。6桁（数百万）〜7桁（数千万）くらいのサイズを越えるようであれば、データベースサーバの導入など、Pythonプログラムだけで処理しない方法を検討したほうがよいだろう。"
   ]
  }
 ],
 "metadata": {
  "kernelspec": {
   "display_name": "Python 3",
   "language": "python",
   "name": "python3"
  },
  "language_info": {
   "codemirror_mode": {
    "name": "ipython",
    "version": 3
   },
   "file_extension": ".py",
   "mimetype": "text/x-python",
   "name": "python",
   "nbconvert_exporter": "python",
   "pygments_lexer": "ipython3",
   "version": "3.8.0"
  }
 },
 "nbformat": 4,
 "nbformat_minor": 2
}
