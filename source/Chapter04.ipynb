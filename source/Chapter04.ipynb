{
 "cells": [
  {
   "cell_type": "code",
   "execution_count": 1,
   "metadata": {},
   "outputs": [],
   "source": [
    "def merge_arrays(left, right=[]):\n",
    "    res = []\n",
    "    i, j = 0, 0\n",
    "    n, m = len(left), len(right)\n",
    "    # どちらかの配列を調べ尽くしたらそこで終了\n",
    "    while i < n and j < m:\n",
    "        if left[i] < right[j]:\n",
    "            res.append(left[i])\n",
    "            i += 1\n",
    "        else:\n",
    "            res.append(right[j])\n",
    "            j += 1\n",
    "    # 残りはそのまま後ろに連結する。\n",
    "    return res + left[i:] + right[j:]"
   ]
  },
  {
   "cell_type": "code",
   "execution_count": 2,
   "metadata": {},
   "outputs": [],
   "source": [
    "def step(array):\n",
    "    res = []\n",
    "    for i in range(0, len(array), 2):\n",
    "        # 長さ2もしくは1の配列がスライスの結果として返る。\n",
    "        res.append(merge_arrays(*array[i:i+2]))\n",
    "    return res"
   ]
  },
  {
   "cell_type": "code",
   "execution_count": 3,
   "metadata": {},
   "outputs": [
    {
     "data": {
      "text/plain": [
       "[[30, 38], [13, 92], [50, 61], [11, 19], [2, 8], [51, 70], [37, 97], [7]]"
      ]
     },
     "execution_count": 3,
     "metadata": {},
     "output_type": "execute_result"
    }
   ],
   "source": [
    "import random\n",
    "random.seed(4)\n",
    "my_array = [random.randint(0, 100) for i in range(15)]\n",
    "my_array = [[v] for v in my_array]\n",
    "step1 = step(my_array)\n",
    "step1"
   ]
  },
  {
   "cell_type": "code",
   "execution_count": 4,
   "metadata": {},
   "outputs": [
    {
     "data": {
      "text/plain": [
       "[[13, 30, 38, 92], [11, 19, 50, 61], [2, 8, 51, 70], [7, 37, 97]]"
      ]
     },
     "execution_count": 4,
     "metadata": {},
     "output_type": "execute_result"
    }
   ],
   "source": [
    "step2 = step(step1)\n",
    "step2"
   ]
  },
  {
   "cell_type": "code",
   "execution_count": 5,
   "metadata": {},
   "outputs": [
    {
     "data": {
      "text/plain": [
       "[[2, 7, 8, 11, 13, 19, 30, 37, 38, 50, 51, 61, 70, 92, 97]]"
      ]
     },
     "execution_count": 5,
     "metadata": {},
     "output_type": "execute_result"
    }
   ],
   "source": [
    "step3 = step(step2)\n",
    "step4 = step(step3)\n",
    "step4"
   ]
  },
  {
   "cell_type": "code",
   "execution_count": 6,
   "metadata": {},
   "outputs": [],
   "source": [
    "def merge_sort(array):\n",
    "    # すべての数をリストに変換する\n",
    "    res = [[v] for v in array]\n",
    "    while len(res[0]) != len(array):\n",
    "        res = step(res)\n",
    "    # リストの中にリストが入ってしまうのでこれを取り出す\n",
    "    return res[0]"
   ]
  },
  {
   "cell_type": "code",
   "execution_count": 7,
   "metadata": {},
   "outputs": [
    {
     "data": {
      "text/plain": [
       "[28, 66, 68, 46, 35, 99, 22, 13, 33, 27, 3, 82, 33, 34, 24]"
      ]
     },
     "execution_count": 7,
     "metadata": {},
     "output_type": "execute_result"
    }
   ],
   "source": [
    "my_array = [random.randint(0,100) for i in range(15)]\n",
    "my_array"
   ]
  },
  {
   "cell_type": "code",
   "execution_count": 8,
   "metadata": {},
   "outputs": [
    {
     "data": {
      "text/plain": [
       "[3, 13, 22, 24, 27, 28, 33, 33, 34, 35, 46, 66, 68, 82, 99]"
      ]
     },
     "execution_count": 8,
     "metadata": {},
     "output_type": "execute_result"
    }
   ],
   "source": [
    "merge_sort(my_array)"
   ]
  },
  {
   "cell_type": "code",
   "execution_count": 9,
   "metadata": {},
   "outputs": [],
   "source": [
    "def merge_sort(array):\n",
    "    if len(array) <= 1:\n",
    "        return array\n",
    "    mid_idx = len(array) // 2\n",
    "    left = array[:mid_idx]\n",
    "    right = array[mid_idx:]\n",
    "    return merge_arrays(merge_sort(left), merge_sort(right))"
   ]
  },
  {
   "cell_type": "code",
   "execution_count": 10,
   "metadata": {},
   "outputs": [],
   "source": [
    "def quick_sort(array):\n",
    "    # 空の配列はそのまま返す\n",
    "    if not array:\n",
    "        return array\n",
    "    # 最後の要素をpivotにする。\n",
    "    p = array[-1]\n",
    "    left = []\n",
    "    right = []\n",
    "    pivots = []\n",
    "    # pivotとの関係で要素を分割する\n",
    "    for v in array:\n",
    "        if v < p:\n",
    "            left.append(v)\n",
    "        elif v == p:\n",
    "            pivots.append(v)\n",
    "        else:\n",
    "            right.append(v)\n",
    "    # 左と右は再び関数を適用して返す。\n",
    "    return quick_sort(left) + pivots + quick_sort(right)"
   ]
  },
  {
   "cell_type": "code",
   "execution_count": 11,
   "metadata": {},
   "outputs": [
    {
     "data": {
      "text/plain": [
       "[21, 39, 37, 80, 93, 47, 11, 77, 43, 85, 49, 64, 31, 22, 31]"
      ]
     },
     "execution_count": 11,
     "metadata": {},
     "output_type": "execute_result"
    }
   ],
   "source": [
    "my_array = [random.randint(0, 100) for i in range(15)]\n",
    "my_array"
   ]
  },
  {
   "cell_type": "code",
   "execution_count": 12,
   "metadata": {},
   "outputs": [
    {
     "data": {
      "text/plain": [
       "[11, 21, 22, 31, 31, 37, 39, 43, 47, 49, 64, 77, 80, 85, 93]"
      ]
     },
     "execution_count": 12,
     "metadata": {},
     "output_type": "execute_result"
    }
   ],
   "source": [
    "quick_sort(my_array)"
   ]
  },
  {
   "cell_type": "code",
   "execution_count": 13,
   "metadata": {},
   "outputs": [],
   "source": [
    "sample_data = []\n",
    "for i in range(100):\n",
    "    sample_data.append([random.randint(0, 5000) for i in range(2000)])"
   ]
  },
  {
   "cell_type": "code",
   "execution_count": 14,
   "metadata": {},
   "outputs": [],
   "source": [
    "import time\n",
    "\n",
    "def performance_check(method, data, num=3):\n",
    "    s = time.time()\n",
    "    for i in range(num):\n",
    "        for v in data: method(v)\n",
    "    e = time.time()\n",
    "    return e - s"
   ]
  },
  {
   "cell_type": "code",
   "execution_count": 15,
   "metadata": {},
   "outputs": [
    {
     "data": {
      "text/plain": [
       "2.5252842903137207"
      ]
     },
     "execution_count": 15,
     "metadata": {},
     "output_type": "execute_result"
    }
   ],
   "source": [
    "performance_check(merge_sort, sample_data)"
   ]
  },
  {
   "cell_type": "code",
   "execution_count": 16,
   "metadata": {
    "scrolled": true
   },
   "outputs": [
    {
     "data": {
      "text/plain": [
       "1.3420770168304443"
      ]
     },
     "execution_count": 16,
     "metadata": {},
     "output_type": "execute_result"
    }
   ],
   "source": [
    "performance_check(quick_sort, sample_data)"
   ]
  },
  {
   "cell_type": "code",
   "execution_count": 17,
   "metadata": {},
   "outputs": [],
   "source": [
    "sorted_data = []\n",
    "for i in range(100):\n",
    "    sorted_data.append(sorted([random.randint(0, 5000) for i in range(2000)]))"
   ]
  },
  {
   "cell_type": "code",
   "execution_count": 18,
   "metadata": {},
   "outputs": [
    {
     "data": {
      "text/plain": [
       "1.789849042892456"
      ]
     },
     "execution_count": 18,
     "metadata": {},
     "output_type": "execute_result"
    }
   ],
   "source": [
    "performance_check(merge_sort, sorted_data)"
   ]
  },
  {
   "cell_type": "code",
   "execution_count": 19,
   "metadata": {},
   "outputs": [
    {
     "data": {
      "text/plain": [
       "63.00237321853638"
      ]
     },
     "execution_count": 19,
     "metadata": {},
     "output_type": "execute_result"
    }
   ],
   "source": [
    "performance_check(quick_sort, sorted_data)"
   ]
  },
  {
   "cell_type": "code",
   "execution_count": 20,
   "metadata": {},
   "outputs": [],
   "source": [
    "def quick_sort(array):\n",
    "    if array == []:\n",
    "        return array\n",
    "    p = random.choice(array)  # 変更点はここだけ。\n",
    "    left = []\n",
    "    right = []\n",
    "    pivots = []\n",
    "    for v in array:\n",
    "        if v < p:\n",
    "            left.append(v)\n",
    "        elif v == p:\n",
    "            pivots.append(v)\n",
    "        else:\n",
    "            right.append(v)\n",
    "    # 左と右は再び関数を適用して返す。\n",
    "    return quick_sort(left) + pivots + quick_sort(right)"
   ]
  },
  {
   "cell_type": "code",
   "execution_count": 21,
   "metadata": {},
   "outputs": [
    {
     "data": {
      "text/plain": [
       "1.9804668426513672"
      ]
     },
     "execution_count": 21,
     "metadata": {},
     "output_type": "execute_result"
    }
   ],
   "source": [
    "performance_check(quick_sort, sorted_data)"
   ]
  },
  {
   "cell_type": "code",
   "execution_count": null,
   "metadata": {},
   "outputs": [],
   "source": []
  },
  {
   "cell_type": "code",
   "execution_count": null,
   "metadata": {},
   "outputs": [],
   "source": []
  },
  {
   "cell_type": "code",
   "execution_count": null,
   "metadata": {},
   "outputs": [],
   "source": []
  },
  {
   "cell_type": "code",
   "execution_count": null,
   "metadata": {},
   "outputs": [],
   "source": []
  },
  {
   "cell_type": "code",
   "execution_count": null,
   "metadata": {},
   "outputs": [],
   "source": []
  },
  {
   "cell_type": "code",
   "execution_count": null,
   "metadata": {},
   "outputs": [],
   "source": []
  },
  {
   "cell_type": "markdown",
   "metadata": {},
   "source": [
    "# 練習問題解答"
   ]
  },
  {
   "cell_type": "markdown",
   "metadata": {},
   "source": [
    "## 4.1 \n",
    "\n",
    "二分木では、高さが1つ増えると枝を2つ分けて伸ばすことができる。つまり、高さが$k$となる木には、$2^{k}$枚の葉を作ることができる。うまくイメージできない場合は、高さが2や3の時を図示してみるとよいだろう。"
   ]
  },
  {
   "cell_type": "markdown",
   "metadata": {},
   "source": [
    "## 4.2\n",
    "\n",
    "この章で作ったコードのうち、ソートされた配列同士をマージする部分だけを変えればよい。"
   ]
  },
  {
   "cell_type": "code",
   "execution_count": 23,
   "metadata": {},
   "outputs": [],
   "source": [
    "from heapq import merge\n",
    "\n",
    "def merge_sort(array):\n",
    "    if len(array) <= 1:\n",
    "        return array\n",
    "    mid_idx = len(array) // 2\n",
    "    left = array[:mid_idx]\n",
    "    right = array[mid_idx:]\n",
    "    return merge(merge_sort(left), merge_sort(right))"
   ]
  },
  {
   "cell_type": "markdown",
   "metadata": {},
   "source": [
    "簡単なリストで実行するとわかるが、これまでのようにリストが戻り値にならない。"
   ]
  },
  {
   "cell_type": "code",
   "execution_count": 24,
   "metadata": {},
   "outputs": [
    {
     "data": {
      "text/plain": [
       "<generator object merge at 0x10f290048>"
      ]
     },
     "execution_count": 24,
     "metadata": {},
     "output_type": "execute_result"
    }
   ],
   "source": [
    "merge_sort([2, 3, 1])"
   ]
  },
  {
   "cell_type": "markdown",
   "metadata": {},
   "source": [
    "組み込み関数listを使えばリストに変換できる。また、for文などで利用する場合は、このままinの後に書くことができる。"
   ]
  },
  {
   "cell_type": "code",
   "execution_count": 25,
   "metadata": {},
   "outputs": [
    {
     "data": {
      "text/plain": [
       "[1, 2, 3]"
      ]
     },
     "execution_count": 25,
     "metadata": {},
     "output_type": "execute_result"
    }
   ],
   "source": [
    "list(merge_sort([2, 3, 1]))"
   ]
  },
  {
   "cell_type": "code",
   "execution_count": 26,
   "metadata": {},
   "outputs": [
    {
     "name": "stdout",
     "output_type": "stream",
     "text": [
      "1\n",
      "2\n",
      "3\n"
     ]
    }
   ],
   "source": [
    "for v in merge_sort([2, 3, 1]):\n",
    "    print(v)"
   ]
  },
  {
   "cell_type": "markdown",
   "metadata": {},
   "source": [
    "ここで紹介したmerge関数と同じように、rangeやmap、reversedなどが戻り値としてリストそのものを返さない利点はメモリ効率にある。これらの関数の戻り値が巨大な場合は、当初からメモリを確保してしまうより、必要となったときに次々に値を返す方が余計なメモリを使わなく済むからだ。"
   ]
  },
  {
   "cell_type": "markdown",
   "metadata": {},
   "source": [
    "## 4.3\n",
    "\n",
    "いろいろな方法を考えることができる。実直に確認するには、次のようなコードを考えることができるだろう。"
   ]
  },
  {
   "cell_type": "code",
   "execution_count": 27,
   "metadata": {},
   "outputs": [],
   "source": [
    "def is_sorted(array):\n",
    "    n = len(array)\n",
    "    if n == 0:\n",
    "        return True\n",
    "    for i in range(1, n):\n",
    "        if array[i-1] > array[i]:\n",
    "            return False\n",
    "    return True"
   ]
  },
  {
   "cell_type": "code",
   "execution_count": 28,
   "metadata": {},
   "outputs": [
    {
     "data": {
      "text/plain": [
       "True"
      ]
     },
     "execution_count": 28,
     "metadata": {},
     "output_type": "execute_result"
    }
   ],
   "source": [
    "is_sorted([1, 2, 3, 3, 4])"
   ]
  },
  {
   "cell_type": "code",
   "execution_count": 29,
   "metadata": {},
   "outputs": [
    {
     "data": {
      "text/plain": [
       "False"
      ]
     },
     "execution_count": 29,
     "metadata": {},
     "output_type": "execute_result"
    }
   ],
   "source": [
    "is_sorted([1, 2, 5, 3, 4])"
   ]
  },
  {
   "cell_type": "markdown",
   "metadata": {},
   "source": [
    "リスト内包表記を使ってコードを短くすることもできる。"
   ]
  },
  {
   "cell_type": "code",
   "execution_count": 30,
   "metadata": {},
   "outputs": [],
   "source": [
    "def is_sorted(array):\n",
    "    temp = [array[i] <= array[i+1] for i in range(len(array)-1)]\n",
    "    return all(temp)"
   ]
  },
  {
   "cell_type": "code",
   "execution_count": 31,
   "metadata": {},
   "outputs": [
    {
     "data": {
      "text/plain": [
       "True"
      ]
     },
     "execution_count": 31,
     "metadata": {},
     "output_type": "execute_result"
    }
   ],
   "source": [
    "is_sorted([1, 2, 3, 3, 4])"
   ]
  },
  {
   "cell_type": "code",
   "execution_count": 32,
   "metadata": {},
   "outputs": [
    {
     "data": {
      "text/plain": [
       "False"
      ]
     },
     "execution_count": 32,
     "metadata": {},
     "output_type": "execute_result"
    }
   ],
   "source": [
    "is_sorted([1, 2, 5, 3, 4])"
   ]
  },
  {
   "cell_type": "markdown",
   "metadata": {},
   "source": [
    "組み込み関数sortedを使った大胆な方法もあり得る。"
   ]
  },
  {
   "cell_type": "code",
   "execution_count": 33,
   "metadata": {},
   "outputs": [],
   "source": [
    "def is_sorted(array):\n",
    "    return sorted(array) == array"
   ]
  },
  {
   "cell_type": "code",
   "execution_count": 34,
   "metadata": {},
   "outputs": [
    {
     "data": {
      "text/plain": [
       "True"
      ]
     },
     "execution_count": 34,
     "metadata": {},
     "output_type": "execute_result"
    }
   ],
   "source": [
    "is_sorted([1, 2, 3, 3, 4])"
   ]
  },
  {
   "cell_type": "code",
   "execution_count": 35,
   "metadata": {},
   "outputs": [
    {
     "data": {
      "text/plain": [
       "False"
      ]
     },
     "execution_count": 35,
     "metadata": {},
     "output_type": "execute_result"
    }
   ],
   "source": [
    "is_sorted([1, 2, 5, 3, 4])"
   ]
  },
  {
   "cell_type": "markdown",
   "metadata": {},
   "source": [
    "## 4.4\n",
    "\n",
    "まず、rand_strを実装する。"
   ]
  },
  {
   "cell_type": "code",
   "execution_count": 36,
   "metadata": {},
   "outputs": [],
   "source": [
    "import random\n",
    "\n",
    "def rand_str(n):\n",
    "    alphabet = 'abcdefghijklmnopqrstuvwxyz'\n",
    "    res = random.sample(alphabet, n)\n",
    "    return ''.join(res)"
   ]
  },
  {
   "cell_type": "markdown",
   "metadata": {},
   "source": [
    "1〜10までの長さで、このような文字列を20個作り、リストにする。"
   ]
  },
  {
   "cell_type": "code",
   "execution_count": 37,
   "metadata": {},
   "outputs": [],
   "source": [
    "rand_str_list = [rand_str(random.randint(1, 10)) for i in range(20)]"
   ]
  },
  {
   "cell_type": "code",
   "execution_count": 38,
   "metadata": {},
   "outputs": [
    {
     "data": {
      "text/plain": [
       "['c',\n",
       " 'xbw',\n",
       " 'iucdw',\n",
       " 'vtr',\n",
       " 'wxhipt',\n",
       " 'mxby',\n",
       " 'gaqxc',\n",
       " 'eihdvtwrg',\n",
       " 'ygdw',\n",
       " 'lgb',\n",
       " 'vr',\n",
       " 'yk',\n",
       " 'xedmki',\n",
       " 'jzldanocyq',\n",
       " 'bk',\n",
       " 'u',\n",
       " 's',\n",
       " 'odfxpc',\n",
       " 'zhxstqblu',\n",
       " 'bzcjhkm']"
      ]
     },
     "execution_count": 38,
     "metadata": {},
     "output_type": "execute_result"
    }
   ],
   "source": [
    "rand_str_list"
   ]
  },
  {
   "cell_type": "markdown",
   "metadata": {},
   "source": [
    "普通にソートすると、辞書順にならぶ。"
   ]
  },
  {
   "cell_type": "code",
   "execution_count": 39,
   "metadata": {},
   "outputs": [
    {
     "data": {
      "text/plain": [
       "['bk',\n",
       " 'bzcjhkm',\n",
       " 'c',\n",
       " 'eihdvtwrg',\n",
       " 'gaqxc',\n",
       " 'iucdw',\n",
       " 'jzldanocyq',\n",
       " 'lgb',\n",
       " 'mxby',\n",
       " 'odfxpc',\n",
       " 's',\n",
       " 'u',\n",
       " 'vr',\n",
       " 'vtr',\n",
       " 'wxhipt',\n",
       " 'xbw',\n",
       " 'xedmki',\n",
       " 'ygdw',\n",
       " 'yk',\n",
       " 'zhxstqblu']"
      ]
     },
     "execution_count": 39,
     "metadata": {},
     "output_type": "execute_result"
    }
   ],
   "source": [
    "sorted(rand_str_list)"
   ]
  },
  {
   "cell_type": "markdown",
   "metadata": {},
   "source": [
    "次のようにすると文字列の長さでソートすることができる。"
   ]
  },
  {
   "cell_type": "code",
   "execution_count": 40,
   "metadata": {},
   "outputs": [
    {
     "data": {
      "text/plain": [
       "['c',\n",
       " 'u',\n",
       " 's',\n",
       " 'vr',\n",
       " 'yk',\n",
       " 'bk',\n",
       " 'xbw',\n",
       " 'vtr',\n",
       " 'lgb',\n",
       " 'mxby',\n",
       " 'ygdw',\n",
       " 'iucdw',\n",
       " 'gaqxc',\n",
       " 'wxhipt',\n",
       " 'xedmki',\n",
       " 'odfxpc',\n",
       " 'bzcjhkm',\n",
       " 'eihdvtwrg',\n",
       " 'zhxstqblu',\n",
       " 'jzldanocyq']"
      ]
     },
     "execution_count": 40,
     "metadata": {},
     "output_type": "execute_result"
    }
   ],
   "source": [
    "sorted(rand_str_list, key=lambda x: len(x))"
   ]
  },
  {
   "cell_type": "markdown",
   "metadata": {},
   "source": [
    "keyの引数に渡した関数は、ソートする前に各要素に対して実行される。ここでは、各要素の長さがlen関数によって計算されるので、短いものから長いものへと文字列が並び替えられる。"
   ]
  }
 ],
 "metadata": {
  "kernelspec": {
   "display_name": "Python 3",
   "language": "python",
   "name": "python3"
  },
  "language_info": {
   "codemirror_mode": {
    "name": "ipython",
    "version": 3
   },
   "file_extension": ".py",
   "mimetype": "text/x-python",
   "name": "python",
   "nbconvert_exporter": "python",
   "pygments_lexer": "ipython3",
   "version": "3.8.8"
  }
 },
 "nbformat": 4,
 "nbformat_minor": 4
}
